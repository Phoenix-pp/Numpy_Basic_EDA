{
 "cells": [
  {
   "cell_type": "markdown",
   "id": "5e33a95e",
   "metadata": {},
   "source": [
    "# Dot product: np.dot()"
   ]
  },
  {
   "cell_type": "code",
   "execution_count": 1,
   "id": "dbcc127d",
   "metadata": {},
   "outputs": [
    {
     "name": "stdout",
     "output_type": "stream",
     "text": [
      "32\n"
     ]
    }
   ],
   "source": [
    "import numpy as np\n",
    "a = np.array([1, 2, 3])\n",
    "b = np.array([4, 5, 6])\n",
    "dot_product = np.dot(a, b)\n",
    "print(dot_product)"
   ]
  },
  {
   "cell_type": "markdown",
   "id": "f0089605",
   "metadata": {},
   "source": [
    "# Matrix multiplication: np.matmul()"
   ]
  },
  {
   "cell_type": "code",
   "execution_count": 2,
   "id": "c2a98354",
   "metadata": {},
   "outputs": [
    {
     "name": "stdout",
     "output_type": "stream",
     "text": [
      "[[19 22]\n",
      " [43 50]]\n"
     ]
    }
   ],
   "source": [
    "A = np.array([[1, 2], [3, 4]])\n",
    "B = np.array([[5, 6], [7, 8]])\n",
    "product = np.matmul(A, B)\n",
    "print(product) "
   ]
  },
  {
   "cell_type": "markdown",
   "id": "fcb46553",
   "metadata": {},
   "source": [
    "# Matrix inversion: np.linalg.inv()"
   ]
  },
  {
   "cell_type": "code",
   "execution_count": 3,
   "id": "262b9e6e",
   "metadata": {},
   "outputs": [
    {
     "name": "stdout",
     "output_type": "stream",
     "text": [
      "[[-2.   1. ]\n",
      " [ 1.5 -0.5]]\n"
     ]
    }
   ],
   "source": [
    "A = np.array([[1, 2], [3, 4]])\n",
    "inverse = np.linalg.inv(A)\n",
    "print(inverse)  "
   ]
  },
  {
   "cell_type": "markdown",
   "id": "c32fa9ba",
   "metadata": {},
   "source": [
    "# Determinant: np.linalg.det()"
   ]
  },
  {
   "cell_type": "code",
   "execution_count": 4,
   "id": "44c71b57",
   "metadata": {},
   "outputs": [
    {
     "name": "stdout",
     "output_type": "stream",
     "text": [
      "-2.0000000000000004\n"
     ]
    }
   ],
   "source": [
    "A = np.array([[1, 2], [3, 4]])\n",
    "det = np.linalg.det(A)\n",
    "print(det)  "
   ]
  },
  {
   "cell_type": "markdown",
   "id": "d8b12f2b",
   "metadata": {},
   "source": [
    "# Eigenvalues and eigenvectors: np.linalg.eig()"
   ]
  },
  {
   "cell_type": "code",
   "execution_count": 5,
   "id": "358f0263",
   "metadata": {},
   "outputs": [
    {
     "name": "stdout",
     "output_type": "stream",
     "text": [
      "eigenvalues:\n",
      " [-0.37228132  5.37228132]\n",
      "eigenvectors:\n",
      " [[-0.82456484 -0.41597356]\n",
      " [ 0.56576746 -0.90937671]]\n"
     ]
    }
   ],
   "source": [
    "A = np.array([[1, 2], [3, 4]])\n",
    "eigenvalues, eigenvectors = np.linalg.eig(A)\n",
    "print(\"eigenvalues:\\n\",eigenvalues)     \n",
    "print(\"eigenvectors:\\n\", eigenvectors)    \n"
   ]
  },
  {
   "cell_type": "markdown",
   "id": "d3f120ef",
   "metadata": {},
   "source": [
    "# Matrix power: np.linalg.matrix_power()"
   ]
  },
  {
   "cell_type": "code",
   "execution_count": 6,
   "id": "699021eb",
   "metadata": {},
   "outputs": [
    {
     "name": "stdout",
     "output_type": "stream",
     "text": [
      "[[ 37  54]\n",
      " [ 81 118]]\n"
     ]
    }
   ],
   "source": [
    "A = np.array([[1, 2], [3, 4]])\n",
    "power = np.linalg.matrix_power(A, 3)\n",
    "print(power)  "
   ]
  },
  {
   "cell_type": "markdown",
   "id": "e1314a64",
   "metadata": {},
   "source": [
    "# Singular value decomposition: np.linalg.svd()"
   ]
  },
  {
   "cell_type": "code",
   "execution_count": 7,
   "id": "d0428a53",
   "metadata": {},
   "outputs": [
    {
     "name": "stdout",
     "output_type": "stream",
     "text": [
      "[[-0.2298477   0.88346102  0.40824829]\n",
      " [-0.52474482  0.24078249 -0.81649658]\n",
      " [-0.81964194 -0.40189603  0.40824829]]\n",
      "[9.52551809 0.51430058]\n",
      "[[-0.61962948 -0.78489445]\n",
      " [-0.78489445  0.61962948]]\n"
     ]
    }
   ],
   "source": [
    "A = np.array([[1, 2], [3, 4], [5, 6]])\n",
    "U, S, V = np.linalg.svd(A)\n",
    "print(U)  \n",
    "print(S)  \n",
    "print(V)  "
   ]
  },
  {
   "cell_type": "markdown",
   "id": "e6bc7b6a",
   "metadata": {},
   "source": [
    "for more on this [click)[https://numpy.org/doc/stable/reference/routines.linalg.html}"
   ]
  },
  {
   "cell_type": "code",
   "execution_count": null,
   "id": "0388122a",
   "metadata": {},
   "outputs": [],
   "source": []
  }
 ],
 "metadata": {
  "kernelspec": {
   "display_name": "Python 3 (ipykernel)",
   "language": "python",
   "name": "python3"
  },
  "language_info": {
   "codemirror_mode": {
    "name": "ipython",
    "version": 3
   },
   "file_extension": ".py",
   "mimetype": "text/x-python",
   "name": "python",
   "nbconvert_exporter": "python",
   "pygments_lexer": "ipython3",
   "version": "3.9.13"
  }
 },
 "nbformat": 4,
 "nbformat_minor": 5
}
