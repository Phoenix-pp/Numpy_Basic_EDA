{
 "cells": [
  {
   "cell_type": "markdown",
   "id": "55391ef1",
   "metadata": {},
   "source": [
    "# Importing numpy and dataset"
   ]
  },
  {
   "cell_type": "code",
   "execution_count": 25,
   "id": "0c0b017b",
   "metadata": {},
   "outputs": [
    {
     "name": "stdout",
     "output_type": "stream",
     "text": [
      "(244, 7)\n",
      "1708\n"
     ]
    },
    {
     "data": {
      "text/plain": [
       "array([16.99,  1.01,   nan,   nan,   nan,   nan,  2.  ])"
      ]
     },
     "execution_count": 25,
     "metadata": {},
     "output_type": "execute_result"
    }
   ],
   "source": [
    "import numpy as np\n",
    "tips='https://raw.githubusercontent.com/mwaskom/seaborn-data/master/tips.csv'\n",
    "#data description https://rdrr.io/cran/reshape2/man/tips.html\n",
    "\n",
    "# Load the tips dataset into a numpy array\n",
    "tips = np.genfromtxt(tips, delimiter=',', skip_header=1)\n",
    "print(tips.shape)\n",
    "print(tips.size)"
   ]
  },
  {
   "cell_type": "code",
   "execution_count": 30,
   "id": "0c0f4f3e",
   "metadata": {},
   "outputs": [
    {
     "data": {
      "text/plain": [
       "array([[False, False,  True, ...,  True,  True, False],\n",
       "       [False, False,  True, ...,  True,  True, False],\n",
       "       [False, False,  True, ...,  True,  True, False],\n",
       "       ...,\n",
       "       [False, False,  True, ...,  True,  True, False],\n",
       "       [False, False,  True, ...,  True,  True, False],\n",
       "       [False, False,  True, ...,  True,  True, False]])"
      ]
     },
     "execution_count": 30,
     "metadata": {},
     "output_type": "execute_result"
    }
   ],
   "source": [
    "# does tips has nullvalues?\n",
    "np.isnan(tips)"
   ]
  },
  {
   "cell_type": "code",
   "execution_count": 33,
   "id": "b37d0ea4",
   "metadata": {},
   "outputs": [
    {
     "data": {
      "text/plain": [
       "976"
      ]
     },
     "execution_count": 33,
     "metadata": {},
     "output_type": "execute_result"
    }
   ],
   "source": [
    "# howmany nullvalues?\n",
    "np.isnan(tips).sum()"
   ]
  },
  {
   "cell_type": "code",
   "execution_count": 37,
   "id": "8c8a47a0",
   "metadata": {},
   "outputs": [
    {
     "data": {
      "text/plain": [
       "0"
      ]
     },
     "execution_count": 37,
     "metadata": {},
     "output_type": "execute_result"
    }
   ],
   "source": [
    "#Can we replace these null values? yes, below we are replacing all null values with zero\n",
    "tips[np.isnan(tips)==True]=0\n",
    "np.isnan(tips).sum()"
   ]
  },
  {
   "cell_type": "code",
   "execution_count": 38,
   "id": "8b112b97",
   "metadata": {},
   "outputs": [
    {
     "name": "stdout",
     "output_type": "stream",
     "text": [
      "Mean tip amount: 2.57\n"
     ]
    }
   ],
   "source": [
    "# Calculate the mean tip amount\n",
    "mean_tip = np.mean(tips[:, -1])\n",
    "print(f\"Mean tip amount: {mean_tip:.2f}\")\n"
   ]
  },
  {
   "cell_type": "code",
   "execution_count": 39,
   "id": "8e05e26f",
   "metadata": {},
   "outputs": [
    {
     "name": "stdout",
     "output_type": "stream",
     "text": [
      "Median tip amount: 2.00\n"
     ]
    }
   ],
   "source": [
    "# Calculate the median tip amount\n",
    "median_tip = np.median(tips[:, -1])\n",
    "print(f\"Median tip amount: {median_tip:.2f}\")"
   ]
  },
  {
   "cell_type": "code",
   "execution_count": 40,
   "id": "c3a1d8cc",
   "metadata": {},
   "outputs": [
    {
     "name": "stdout",
     "output_type": "stream",
     "text": [
      "Standard deviation of total bill: 8.88\n"
     ]
    }
   ],
   "source": [
    "# Calculate the standard deviation of the total bill\n",
    "std_total_bill = np.std(tips[:, 0])\n",
    "print(f\"Standard deviation of total bill: {std_total_bill:.2f}\")"
   ]
  },
  {
   "cell_type": "code",
   "execution_count": 41,
   "id": "2678a7fb",
   "metadata": {},
   "outputs": [
    {
     "name": "stdout",
     "output_type": "stream",
     "text": [
      "Correlation between total bill and tip amount: 0.60\n"
     ]
    }
   ],
   "source": [
    "# Calculate the correlation between total bill and tip amount\n",
    "corr = np.corrcoef(tips[:, 0], tips[:, -1])\n",
    "print(f\"Correlation between total bill and tip amount: {corr[0,1]:.2f}\")"
   ]
  },
  {
   "cell_type": "code",
   "execution_count": 42,
   "id": "0b791df4",
   "metadata": {},
   "outputs": [
    {
     "name": "stdout",
     "output_type": "stream",
     "text": [
      "Percentage of tips above $5: 1.64%\n"
     ]
    }
   ],
   "source": [
    "# Calculate the percentage of tips that are above $5\n",
    "above_five = tips[:, -1] > 5\n",
    "percent_above_five = np.mean(above_five) * 100\n",
    "print(f\"Percentage of tips above $5: {percent_above_five:.2f}%\")"
   ]
  }
 ],
 "metadata": {
  "kernelspec": {
   "display_name": "Python 3 (ipykernel)",
   "language": "python",
   "name": "python3"
  },
  "language_info": {
   "codemirror_mode": {
    "name": "ipython",
    "version": 3
   },
   "file_extension": ".py",
   "mimetype": "text/x-python",
   "name": "python",
   "nbconvert_exporter": "python",
   "pygments_lexer": "ipython3",
   "version": "3.9.13"
  }
 },
 "nbformat": 4,
 "nbformat_minor": 5
}
