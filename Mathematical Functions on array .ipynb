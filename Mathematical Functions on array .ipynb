{
 "cells": [
  {
   "cell_type": "code",
   "execution_count": 2,
   "id": "f1f6bdf2",
   "metadata": {},
   "outputs": [],
   "source": [
    "#importing library\n",
    "import numpy as np\n",
    "\n",
    "# Creating two arrays\n",
    "arr1 = np.array([10, 20, 30, 40, 50])\n",
    "arr2 = np.array([26, 27, 28, 29, 30])\n",
    "print(\"Array 1:\", arr1)\n",
    "print(\"Array 2:\", arr2)"
   ]
  },
  {
   "cell_type": "markdown",
   "id": "b49fd7fa",
   "metadata": {},
   "source": [
    "# Element-wise addition of two arrays"
   ]
  },
  {
   "cell_type": "code",
   "execution_count": 4,
   "id": "ecb06185",
   "metadata": {},
   "outputs": [
    {
     "name": "stdout",
     "output_type": "stream",
     "text": [
      "[36 47 58 69 80]\n",
      "Addition of Arrays: [36 47 58 69 80]\n"
     ]
    }
   ],
   "source": [
    "#using +\n",
    "print(arr1+arr2)\n",
    "\n",
    "#using np.add()\n",
    "add=np.add(arr1, arr2)\n",
    "print(\"Addition of Arrays:\", add)"
   ]
  },
  {
   "cell_type": "markdown",
   "id": "3f060daa",
   "metadata": {},
   "source": [
    "# Element-wise subtraction of two arrays"
   ]
  },
  {
   "cell_type": "code",
   "execution_count": 5,
   "id": "c079c3ef",
   "metadata": {},
   "outputs": [
    {
     "name": "stdout",
     "output_type": "stream",
     "text": [
      "[-16  -7   2  11  20]\n",
      "Subtraction of Arrays: [-16  -7   2  11  20]\n"
     ]
    }
   ],
   "source": [
    "#using -\n",
    "#subtracting arr2 from arr1\n",
    "print(arr1-arr2)\n",
    "\n",
    "#using np.subtract()\n",
    "sub=np.subtract(arr1, arr2)\n",
    "print(\"Subtraction of Arrays:\", sub)"
   ]
  },
  {
   "cell_type": "markdown",
   "id": "5adcb46e",
   "metadata": {},
   "source": [
    "# Element-wise multiplication of two arrays"
   ]
  },
  {
   "cell_type": "code",
   "execution_count": 7,
   "id": "e405cc2e",
   "metadata": {},
   "outputs": [
    {
     "name": "stdout",
     "output_type": "stream",
     "text": [
      "[ 260  540  840 1160 1500]\n",
      "Multiplication of Arrays: [ 260  540  840 1160 1500]\n"
     ]
    }
   ],
   "source": [
    "#using *\n",
    "print(arr1 * arr2)\n",
    "\n",
    "#using np.multiply()\n",
    "mul=np.multiply(arr1, arr2)\n",
    "print(\"Multiplication of Arrays:\", mul)"
   ]
  },
  {
   "cell_type": "markdown",
   "id": "e0b5c876",
   "metadata": {},
   "source": [
    "# Element-wise division of two arrays"
   ]
  },
  {
   "cell_type": "code",
   "execution_count": 8,
   "id": "01cda247",
   "metadata": {},
   "outputs": [
    {
     "name": "stdout",
     "output_type": "stream",
     "text": [
      "[0.38461538 0.74074074 1.07142857 1.37931034 1.66666667]\n",
      "Division of Arrays: [0.38461538 0.74074074 1.07142857 1.37931034 1.66666667]\n"
     ]
    }
   ],
   "source": [
    "#using /\n",
    "print(arr1 / arr2)\n",
    "\n",
    "#using np.divide()\n",
    "div=np.divide(arr1, arr2)\n",
    "print(\"Division of Arrays:\", div)\n"
   ]
  },
  {
   "cell_type": "markdown",
   "id": "b41459bd",
   "metadata": {},
   "source": [
    "# Finding the dot product of two arrays"
   ]
  },
  {
   "cell_type": "code",
   "execution_count": 17,
   "id": "f9e6f5a6",
   "metadata": {},
   "outputs": [
    {
     "name": "stdout",
     "output_type": "stream",
     "text": [
      "Dot Product of Arrays: 4300\n"
     ]
    }
   ],
   "source": [
    "dot_prod = np.dot(arr1, arr2)\n",
    "print(\"Dot Product of Arrays:\", dot_prod)"
   ]
  },
  {
   "cell_type": "markdown",
   "id": "ba85f00e",
   "metadata": {},
   "source": [
    "# sum of elemets of a 1D array"
   ]
  },
  {
   "cell_type": "code",
   "execution_count": 18,
   "id": "265fbcb1",
   "metadata": {},
   "outputs": [
    {
     "name": "stdout",
     "output_type": "stream",
     "text": [
      "[10 20 30 40 50]\n",
      "150\n"
     ]
    }
   ],
   "source": [
    "print(arr1)\n",
    "print(np.sum(arr1))"
   ]
  },
  {
   "cell_type": "markdown",
   "id": "851464ea",
   "metadata": {},
   "source": [
    "# sum of all elemets of a 2D array"
   ]
  },
  {
   "cell_type": "code",
   "execution_count": null,
   "id": "149f77e5",
   "metadata": {},
   "outputs": [],
   "source": [
    "arr_2d= np.array([[1,2,3,4],[5,6,7,8]])\n",
    "print(arr_2d)\n",
    "\n",
    "#sum of all elements of 2D array\n",
    "print(np.sum(arr_2d))"
   ]
  },
  {
   "cell_type": "markdown",
   "id": "574a86ed",
   "metadata": {},
   "source": [
    "# Row-wise sum of all elements of 2D array"
   ]
  },
  {
   "cell_type": "code",
   "execution_count": 19,
   "id": "a17491db",
   "metadata": {},
   "outputs": [
    {
     "name": "stdout",
     "output_type": "stream",
     "text": [
      "[10 26]\n"
     ]
    }
   ],
   "source": [
    "print(np.sum(arr_2d, axis=1))"
   ]
  },
  {
   "cell_type": "markdown",
   "id": "9153fd40",
   "metadata": {},
   "source": [
    "# Product of all elements of an array"
   ]
  },
  {
   "cell_type": "code",
   "execution_count": 11,
   "id": "519e0a30",
   "metadata": {},
   "outputs": [
    {
     "data": {
      "text/plain": [
       "12000000"
      ]
     },
     "execution_count": 11,
     "metadata": {},
     "output_type": "execute_result"
    }
   ],
   "source": [
    "print(arr1)\n",
    "print(np.prod(arr1))"
   ]
  },
  {
   "cell_type": "markdown",
   "id": "72c00f73",
   "metadata": {},
   "source": [
    "# Row-wise product of all elements of 2D array"
   ]
  },
  {
   "cell_type": "code",
   "execution_count": 21,
   "id": "999a4506",
   "metadata": {},
   "outputs": [
    {
     "name": "stdout",
     "output_type": "stream",
     "text": [
      "[[1 2 3 4]\n",
      " [5 6 7 8]]\n",
      "[  24 1680]\n"
     ]
    }
   ],
   "source": [
    "print(arr_2d)\n",
    "print(np.prod(arr_2d, axis=1))"
   ]
  },
  {
   "cell_type": "markdown",
   "id": "7bc66acb",
   "metadata": {},
   "source": [
    "# Additional mathematical functions on the array"
   ]
  },
  {
   "cell_type": "code",
   "execution_count": null,
   "id": "8047626b",
   "metadata": {},
   "outputs": [],
   "source": [
    "# Creating an array\n",
    "arr = np.array([11, 25, 36, 74, 95])\n",
    "print(\"Array:\", arr)"
   ]
  },
  {
   "cell_type": "code",
   "execution_count": null,
   "id": "353759a5",
   "metadata": {},
   "outputs": [],
   "source": [
    "print(\"Square Root of Array:\", np.sqrt(arr))"
   ]
  },
  {
   "cell_type": "code",
   "execution_count": null,
   "id": "3157ff54",
   "metadata": {},
   "outputs": [],
   "source": [
    "print(\"Exponential of Array:\", np.exp(arr))"
   ]
  },
  {
   "cell_type": "code",
   "execution_count": null,
   "id": "d09ffd71",
   "metadata": {},
   "outputs": [],
   "source": [
    "print(\"Logarithm of Array:\", np.log(arr))\n",
    "print(\"Logarithm Base 10 of Array:\", np.log10(arr))"
   ]
  },
  {
   "cell_type": "code",
   "execution_count": null,
   "id": "254fcd4b",
   "metadata": {},
   "outputs": [],
   "source": [
    "print(\"Absolute Value of Array:\", np.abs(arr))"
   ]
  },
  {
   "cell_type": "code",
   "execution_count": null,
   "id": "267d48fa",
   "metadata": {},
   "outputs": [],
   "source": [
    "print(\"Trigonometric Sine of Array:\", np.sin(arr))\n",
    "print(\"Trigonometric Cosine of Array:\", np.cos(arr))\n",
    "print(\"Trigonometric Tangent of Array:\", np.tan(arr))"
   ]
  },
  {
   "cell_type": "code",
   "execution_count": null,
   "id": "b029df5f",
   "metadata": {},
   "outputs": [],
   "source": [
    "print(\"Inverse Trigonometric Sine of Array:\", np.arcsin(arr))\n",
    "print(\"Inverse Trigonometric Cosine of Array:\", np.arccos(arr))\n",
    "print(\"Inverse Trigonometric Tangent of Array:\", np.arctan(arr))"
   ]
  }
 ],
 "metadata": {
  "kernelspec": {
   "display_name": "Python 3 (ipykernel)",
   "language": "python",
   "name": "python3"
  },
  "language_info": {
   "codemirror_mode": {
    "name": "ipython",
    "version": 3
   },
   "file_extension": ".py",
   "mimetype": "text/x-python",
   "name": "python",
   "nbconvert_exporter": "python",
   "pygments_lexer": "ipython3",
   "version": "3.9.13"
  }
 },
 "nbformat": 4,
 "nbformat_minor": 5
}
