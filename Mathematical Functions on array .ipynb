{
 "cells": [
  {
   "cell_type": "code",
   "execution_count": 2,
   "id": "0aabd644",
   "metadata": {},
   "outputs": [
    {
     "name": "stdout",
     "output_type": "stream",
     "text": [
      "Array 1: [10 20 30 40 50]\n",
      "Array 2: [26 27 28 29 30]\n"
     ]
    }
   ],
   "source": [
    "#importing library\n",
    "import numpy as np\n",
    "\n",
    "# Creating two arrays\n",
    "arr1 = np.array([10, 20, 30, 40, 50])\n",
    "arr2 = np.array([26, 27, 28, 29, 30])\n",
    "print(\"Array 1:\", arr1)\n",
    "print(\"Array 2:\", arr2)"
   ]
  },
  {
   "cell_type": "markdown",
   "id": "f74f70f6",
   "metadata": {},
   "source": [
    "# Element-wise addition of two arrays"
   ]
  },
  {
   "cell_type": "code",
   "execution_count": 3,
   "id": "2048efdd",
   "metadata": {},
   "outputs": [
    {
     "name": "stdout",
     "output_type": "stream",
     "text": [
      "[36 47 58 69 80]\n",
      "Addition of Arrays: [36 47 58 69 80]\n"
     ]
    }
   ],
   "source": [
    "#using +\n",
    "print(arr1+arr2)\n",
    "\n",
    "#using np.add()\n",
    "add=np.add(arr1, arr2)\n",
    "print(\"Addition of Arrays:\", add)"
   ]
  },
  {
   "cell_type": "markdown",
   "id": "9e549858",
   "metadata": {},
   "source": [
    "# Element-wise subtraction of two arrays"
   ]
  },
  {
   "cell_type": "code",
   "execution_count": 4,
   "id": "8dbcbdc4",
   "metadata": {},
   "outputs": [
    {
     "name": "stdout",
     "output_type": "stream",
     "text": [
      "[-16  -7   2  11  20]\n",
      "Subtraction of Arrays: [-16  -7   2  11  20]\n"
     ]
    }
   ],
   "source": [
    "#using -\n",
    "#subtracting arr2 from arr1\n",
    "print(arr1-arr2)\n",
    "\n",
    "#using np.subtract()\n",
    "sub=np.subtract(arr1, arr2)\n",
    "print(\"Subtraction of Arrays:\", sub)"
   ]
  },
  {
   "cell_type": "markdown",
   "id": "0020e32f",
   "metadata": {},
   "source": [
    "# Element-wise multiplication of two arrays"
   ]
  },
  {
   "cell_type": "code",
   "execution_count": 5,
   "id": "c9d26dfa",
   "metadata": {},
   "outputs": [
    {
     "name": "stdout",
     "output_type": "stream",
     "text": [
      "[ 260  540  840 1160 1500]\n",
      "Multiplication of Arrays: [ 260  540  840 1160 1500]\n"
     ]
    }
   ],
   "source": [
    "#using *\n",
    "print(arr1 * arr2)\n",
    "\n",
    "#using np.multiply()\n",
    "mul=np.multiply(arr1, arr2)\n",
    "print(\"Multiplication of Arrays:\", mul)"
   ]
  },
  {
   "cell_type": "markdown",
   "id": "b40a4693",
   "metadata": {},
   "source": [
    "# Element-wise division of two arrays"
   ]
  },
  {
   "cell_type": "code",
   "execution_count": 6,
   "id": "95499235",
   "metadata": {},
   "outputs": [
    {
     "name": "stdout",
     "output_type": "stream",
     "text": [
      "[0.38461538 0.74074074 1.07142857 1.37931034 1.66666667]\n",
      "Division of Arrays: [0.38461538 0.74074074 1.07142857 1.37931034 1.66666667]\n"
     ]
    }
   ],
   "source": [
    "#using /\n",
    "print(arr1 / arr2)\n",
    "\n",
    "#using np.divide()\n",
    "div=np.divide(arr1, arr2)\n",
    "print(\"Division of Arrays:\", div)\n"
   ]
  },
  {
   "cell_type": "markdown",
   "id": "b3b20f63",
   "metadata": {},
   "source": [
    "# Finding the dot product of two arrays"
   ]
  },
  {
   "cell_type": "code",
   "execution_count": 7,
   "id": "fd4e01e2",
   "metadata": {},
   "outputs": [
    {
     "name": "stdout",
     "output_type": "stream",
     "text": [
      "Dot Product of Arrays: 4300\n"
     ]
    }
   ],
   "source": [
    "dot_prod = np.dot(arr1, arr2)\n",
    "print(\"Dot Product of Arrays:\", dot_prod)"
   ]
  },
  {
   "cell_type": "markdown",
   "id": "4fa1ba64",
   "metadata": {},
   "source": [
    "# sum of elemets of a 1D array"
   ]
  },
  {
   "cell_type": "code",
   "execution_count": 8,
   "id": "0a2ea4bd",
   "metadata": {},
   "outputs": [
    {
     "name": "stdout",
     "output_type": "stream",
     "text": [
      "[10 20 30 40 50]\n",
      "150\n"
     ]
    }
   ],
   "source": [
    "print(arr1)\n",
    "print(np.sum(arr1))"
   ]
  },
  {
   "cell_type": "markdown",
   "id": "127ad9c2",
   "metadata": {},
   "source": [
    "# sum of all elemets of a 2D array"
   ]
  },
  {
   "cell_type": "code",
   "execution_count": 9,
   "id": "b6b347ed",
   "metadata": {},
   "outputs": [
    {
     "name": "stdout",
     "output_type": "stream",
     "text": [
      "[[1 2 3 4]\n",
      " [5 6 7 8]]\n",
      "36\n"
     ]
    }
   ],
   "source": [
    "arr_2d= np.array([[1,2,3,4],[5,6,7,8]])\n",
    "print(arr_2d)\n",
    "\n",
    "#sum of all elements of 2D array\n",
    "print(np.sum(arr_2d))"
   ]
  },
  {
   "cell_type": "markdown",
   "id": "7969246c",
   "metadata": {},
   "source": [
    "# Row-wise sum of all elements of 2D array"
   ]
  },
  {
   "cell_type": "code",
   "execution_count": 10,
   "id": "5a787379",
   "metadata": {},
   "outputs": [
    {
     "name": "stdout",
     "output_type": "stream",
     "text": [
      "[10 26]\n"
     ]
    }
   ],
   "source": [
    "print(np.sum(arr_2d, axis=1))"
   ]
  },
  {
   "cell_type": "markdown",
   "id": "90b0defa",
   "metadata": {},
   "source": [
    "# Product of all elements of an array"
   ]
  },
  {
   "cell_type": "code",
   "execution_count": 11,
   "id": "0e5ca009",
   "metadata": {},
   "outputs": [
    {
     "name": "stdout",
     "output_type": "stream",
     "text": [
      "[10 20 30 40 50]\n",
      "12000000\n"
     ]
    }
   ],
   "source": [
    "print(arr1)\n",
    "print(np.prod(arr1))"
   ]
  },
  {
   "cell_type": "markdown",
   "id": "489752ec",
   "metadata": {},
   "source": [
    "# Row-wise product of all elements of 2D array"
   ]
  },
  {
   "cell_type": "code",
   "execution_count": 12,
   "id": "f18b8825",
   "metadata": {},
   "outputs": [
    {
     "name": "stdout",
     "output_type": "stream",
     "text": [
      "[[1 2 3 4]\n",
      " [5 6 7 8]]\n",
      "[  24 1680]\n"
     ]
    }
   ],
   "source": [
    "print(arr_2d)\n",
    "print(np.prod(arr_2d, axis=1))"
   ]
  },
  {
   "cell_type": "markdown",
   "id": "732bde1f",
   "metadata": {},
   "source": [
    "# Additional mathematical functions on the array"
   ]
  },
  {
   "cell_type": "code",
   "execution_count": 13,
   "id": "765d8ad0",
   "metadata": {},
   "outputs": [
    {
     "name": "stdout",
     "output_type": "stream",
     "text": [
      "Array: [11 25 36 74 95]\n"
     ]
    }
   ],
   "source": [
    "# Creating an array\n",
    "arr = np.array([11, 25, 36, 74, 95])\n",
    "print(\"Array:\", arr)"
   ]
  },
  {
   "cell_type": "code",
   "execution_count": 14,
   "id": "8a67d61c",
   "metadata": {},
   "outputs": [
    {
     "name": "stdout",
     "output_type": "stream",
     "text": [
      "Square Root of Array: [3.31662479 5.         6.         8.60232527 9.74679434]\n"
     ]
    }
   ],
   "source": [
    "print(\"Square Root of Array:\", np.sqrt(arr))"
   ]
  },
  {
   "cell_type": "code",
   "execution_count": 15,
   "id": "8738956e",
   "metadata": {},
   "outputs": [
    {
     "name": "stdout",
     "output_type": "stream",
     "text": [
      "Exponential of Array: [5.98741417e+04 7.20048993e+10 4.31123155e+15 1.37338298e+32\n",
      " 1.81123908e+41]\n"
     ]
    }
   ],
   "source": [
    "print(\"Exponential of Array:\", np.exp(arr))"
   ]
  },
  {
   "cell_type": "code",
   "execution_count": 16,
   "id": "adba5927",
   "metadata": {},
   "outputs": [
    {
     "name": "stdout",
     "output_type": "stream",
     "text": [
      "Logarithm of Array: [2.39789527 3.21887582 3.58351894 4.30406509 4.55387689]\n",
      "Logarithm Base 10 of Array: [1.04139269 1.39794001 1.5563025  1.86923172 1.97772361]\n"
     ]
    }
   ],
   "source": [
    "print(\"Logarithm of Array:\", np.log(arr))\n",
    "print(\"Logarithm Base 10 of Array:\", np.log10(arr))"
   ]
  },
  {
   "cell_type": "code",
   "execution_count": 17,
   "id": "b9ec2e85",
   "metadata": {},
   "outputs": [
    {
     "name": "stdout",
     "output_type": "stream",
     "text": [
      "Absolute Value of Array: [11 25 36 74 95]\n"
     ]
    }
   ],
   "source": [
    "print(\"Absolute Value of Array:\", np.abs(arr))"
   ]
  },
  {
   "cell_type": "code",
   "execution_count": 18,
   "id": "d6af0713",
   "metadata": {},
   "outputs": [
    {
     "name": "stdout",
     "output_type": "stream",
     "text": [
      "Trigonometric Sine of Array: [-0.99999021 -0.13235175 -0.99177885 -0.98514626  0.68326171]\n",
      "Trigonometric Cosine of Array: [ 0.0044257   0.99120281 -0.12796369  0.17171734  0.73017356]\n",
      "Trigonometric Tangent of Array: [-2.25950846e+02 -1.33526407e-01  7.75047091e+00 -5.73702254e+00\n",
      "  9.35752472e-01]\n"
     ]
    }
   ],
   "source": [
    "print(\"Trigonometric Sine of Array:\", np.sin(arr))\n",
    "print(\"Trigonometric Cosine of Array:\", np.cos(arr))\n",
    "print(\"Trigonometric Tangent of Array:\", np.tan(arr))"
   ]
  },
  {
   "cell_type": "code",
   "execution_count": 19,
   "id": "050bb586",
   "metadata": {},
   "outputs": [
    {
     "name": "stdout",
     "output_type": "stream",
     "text": [
      "Inverse Trigonometric Sine of Array: [nan nan nan nan nan]\n",
      "Inverse Trigonometric Cosine of Array: [nan nan nan nan nan]\n",
      "Inverse Trigonometric Tangent of Array: [1.48013644 1.53081764 1.54302569 1.55728364 1.5602704 ]\n"
     ]
    },
    {
     "name": "stderr",
     "output_type": "stream",
     "text": [
      "C:\\Users\\Pooja\\AppData\\Local\\Temp\\ipykernel_22648\\3585001951.py:1: RuntimeWarning: invalid value encountered in arcsin\n",
      "  print(\"Inverse Trigonometric Sine of Array:\", np.arcsin(arr))\n",
      "C:\\Users\\Pooja\\AppData\\Local\\Temp\\ipykernel_22648\\3585001951.py:2: RuntimeWarning: invalid value encountered in arccos\n",
      "  print(\"Inverse Trigonometric Cosine of Array:\", np.arccos(arr))\n"
     ]
    }
   ],
   "source": [
    "print(\"Inverse Trigonometric Sine of Array:\", np.arcsin(arr))\n",
    "print(\"Inverse Trigonometric Cosine of Array:\", np.arccos(arr))\n",
    "print(\"Inverse Trigonometric Tangent of Array:\", np.arctan(arr))"
   ]
  },
  {
   "cell_type": "markdown",
   "id": "cf934d9b",
   "metadata": {},
   "source": [
    "# Commulaitve sum"
   ]
  },
  {
   "cell_type": "code",
   "execution_count": 28,
   "id": "4b65e95e",
   "metadata": {},
   "outputs": [
    {
     "name": "stdout",
     "output_type": "stream",
     "text": [
      "[10 20 30 40 50]\n",
      "[ 10  30  60 100 150]\n",
      "[[1 2 3 4]\n",
      " [5 6 7 8]]\n",
      "[ 1  3  6 10 15 21 28 36]\n",
      "[[ 1  3  6 10]\n",
      " [ 5 11 18 26]]\n"
     ]
    }
   ],
   "source": [
    "#1D array\n",
    "print(arr1)\n",
    "print(np.cumsum(arr1))\n",
    "\n",
    "#2D array\n",
    "print(arr_2d)\n",
    "print(np.cumsum(arr_2d))\n",
    "\n",
    "#2D array row-wise\n",
    "print(np.cumsum(arr_2d, axis=1))"
   ]
  },
  {
   "cell_type": "markdown",
   "id": "407b8523",
   "metadata": {},
   "source": [
    "# Commulative Product "
   ]
  },
  {
   "cell_type": "code",
   "execution_count": 27,
   "id": "0fede301",
   "metadata": {},
   "outputs": [
    {
     "name": "stdout",
     "output_type": "stream",
     "text": [
      "[10 20 30 40 50]\n",
      "[      10      200     6000   240000 12000000]\n",
      "[[1 2 3 4]\n",
      " [5 6 7 8]]\n",
      "[    1     2     6    24   120   720  5040 40320]\n",
      "[[   1    2    6   24]\n",
      " [   5   30  210 1680]]\n"
     ]
    },
    {
     "data": {
      "text/plain": [
       "(2, 4)"
      ]
     },
     "execution_count": 27,
     "metadata": {},
     "output_type": "execute_result"
    }
   ],
   "source": [
    "#1D Array\n",
    "print(arr1)\n",
    "print(np.cumprod(arr1))\n",
    "\n",
    "#2D array\n",
    "print(arr_2d)\n",
    "print(np.cumprod(arr_2d))\n",
    "\n",
    "#2d array, row-wise\n",
    "print(np.cumprod(arr_2d, axis=1))\n",
    "arr_2d.shape"
   ]
  },
  {
   "cell_type": "code",
   "execution_count": null,
   "id": "02722990",
   "metadata": {},
   "outputs": [],
   "source": []
  }
 ],
 "metadata": {
  "kernelspec": {
   "display_name": "Python 3 (ipykernel)",
   "language": "python",
   "name": "python3"
  },
  "language_info": {
   "codemirror_mode": {
    "name": "ipython",
    "version": 3
   },
   "file_extension": ".py",
   "mimetype": "text/x-python",
   "name": "python",
   "nbconvert_exporter": "python",
   "pygments_lexer": "ipython3",
   "version": "3.9.13"
  }
 },
 "nbformat": 4,
 "nbformat_minor": 5
}
