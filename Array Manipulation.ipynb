{
 "cells": [
  {
   "cell_type": "code",
   "execution_count": 1,
   "id": "b07d1d57",
   "metadata": {},
   "outputs": [],
   "source": [
    "# Importing numpy\n",
    "import numpy as np"
   ]
  },
  {
   "cell_type": "code",
   "execution_count": 78,
   "id": "494faa56",
   "metadata": {},
   "outputs": [
    {
     "data": {
      "text/plain": [
       "(2, 3)"
      ]
     },
     "execution_count": 78,
     "metadata": {},
     "output_type": "execute_result"
    }
   ],
   "source": [
    "# Create an array\n",
    "arr = np.array([[10, 12, 33], [45, 65, 76]])\n",
    "arr.shape\n"
   ]
  },
  {
   "cell_type": "markdown",
   "id": "cd43557d",
   "metadata": {},
   "source": [
    "# Reshape the array"
   ]
  },
  {
   "cell_type": "code",
   "execution_count": 68,
   "id": "62d99cbc",
   "metadata": {},
   "outputs": [
    {
     "name": "stdout",
     "output_type": "stream",
     "text": [
      "Original array: \n",
      " [[10 12 33]\n",
      " [45 65 76]]\n",
      "Reshaped array:\n",
      " [[10 12]\n",
      " [33 45]\n",
      " [65 76]]\n"
     ]
    }
   ],
   "source": [
    "print(\"Original array: \\n\",arr)\n",
    "arr_reshaped = np.reshape(arr, (3, 2))\n",
    "print(\"Reshaped array:\\n\", arr_reshaped)"
   ]
  },
  {
   "cell_type": "markdown",
   "id": "523ef0a1",
   "metadata": {},
   "source": [
    "# Transpose the array"
   ]
  },
  {
   "cell_type": "code",
   "execution_count": 69,
   "id": "463b120a",
   "metadata": {},
   "outputs": [
    {
     "name": "stdout",
     "output_type": "stream",
     "text": [
      "Original array: \n",
      " [[10 12 33]\n",
      " [45 65 76]]\n",
      "Transposed array:\n",
      " [[10 45]\n",
      " [12 65]\n",
      " [33 76]]\n"
     ]
    }
   ],
   "source": [
    "print(\"Original array: \\n\",arr)\n",
    "arr_transposed = np.transpose(arr)\n",
    "print(\"Transposed array:\\n\", arr_transposed)"
   ]
  },
  {
   "cell_type": "markdown",
   "id": "cb2b5972",
   "metadata": {},
   "source": [
    "# Flatten the array"
   ]
  },
  {
   "cell_type": "code",
   "execution_count": 70,
   "id": "cf62740d",
   "metadata": {},
   "outputs": [
    {
     "name": "stdout",
     "output_type": "stream",
     "text": [
      "Original array: \n",
      " [[10 12 33]\n",
      " [45 65 76]]\n",
      "Flattened array:\n",
      " [10 12 33 45 65 76]\n"
     ]
    }
   ],
   "source": [
    "print(\"Original array: \\n\",arr)\n",
    "arr_flattened = arr.flatten()\n",
    "print(\"Flattened array:\\n\", arr_flattened)"
   ]
  },
  {
   "cell_type": "markdown",
   "id": "f1060f7b",
   "metadata": {},
   "source": [
    "# Concatenate two arrays"
   ]
  },
  {
   "cell_type": "code",
   "execution_count": 71,
   "id": "efea2c43",
   "metadata": {},
   "outputs": [
    {
     "name": "stdout",
     "output_type": "stream",
     "text": [
      "Original array 1: \n",
      " [1 2 3]\n",
      "Original array 2: \n",
      " [4 5 6]\n",
      "Concatenated array:\n",
      " [1 2 3 4 5 6]\n"
     ]
    }
   ],
   "source": [
    "arr1 = np.array([1, 2, 3])\n",
    "arr2 = np.array([4, 5, 6])\n",
    "print(\"Original array 1: \\n\",arr1)\n",
    "print(\"Original array 2: \\n\",arr2)\n",
    "arr_concatenated = np.concatenate((arr1, arr2))\n",
    "print(\"Concatenated array:\\n\", arr_concatenated)"
   ]
  },
  {
   "cell_type": "markdown",
   "id": "4a9fa43f",
   "metadata": {},
   "source": [
    "# Concatenate two  2D arrays"
   ]
  },
  {
   "cell_type": "code",
   "execution_count": 72,
   "id": "3b82345a",
   "metadata": {},
   "outputs": [
    {
     "name": "stdout",
     "output_type": "stream",
     "text": [
      "Original array 1: \n",
      " [[ 1  2  3]\n",
      " [11 12 13]]\n",
      "Original array 2: \n",
      " [[ 4  5  6]\n",
      " [14 15 16]]\n",
      "Concatenated array:\n",
      " [[ 1  2  3]\n",
      " [11 12 13]\n",
      " [ 4  5  6]\n",
      " [14 15 16]]\n"
     ]
    }
   ],
   "source": [
    "arr1 = np.array([[1, 2, 3],[11,12,13]])\n",
    "arr2 = np.array([[4, 5, 6],[14,15,16]])\n",
    "print(\"Original array 1: \\n\",arr1)\n",
    "print(\"Original array 2: \\n\",arr2)\n",
    "arr_concatenated = np.concatenate((arr1, arr2))\n",
    "print(\"Concatenated array:\\n\", arr_concatenated)\n",
    "#arr_concatenated.shape\n"
   ]
  },
  {
   "cell_type": "markdown",
   "id": "f008d2ca",
   "metadata": {},
   "source": [
    "# Split an array"
   ]
  },
  {
   "cell_type": "code",
   "execution_count": 73,
   "id": "a96a20ad",
   "metadata": {},
   "outputs": [
    {
     "name": "stdout",
     "output_type": "stream",
     "text": [
      "Splitted array:\n",
      " [array([[10, 12, 33]]), array([[45, 65, 76]])]\n"
     ]
    }
   ],
   "source": [
    "arr_splitted = np.array_split(arr, 2)\n",
    "print(\"Splitted array:\\n\", arr_splitted)"
   ]
  },
  {
   "cell_type": "markdown",
   "id": "23509821",
   "metadata": {},
   "source": [
    "# Inserting value in an array"
   ]
  },
  {
   "cell_type": "code",
   "execution_count": 74,
   "id": "243cc998",
   "metadata": {},
   "outputs": [
    {
     "name": "stdout",
     "output_type": "stream",
     "text": [
      "Original array :\n",
      " [[10 12 33]\n",
      " [45 65 76]]\n",
      "Inserted array:\n",
      " [[10 12  5 33]\n",
      " [45 65  5 76]]\n",
      "Inserted array:\n",
      " [[10 12 33]\n",
      " [ 5  5  5]\n",
      " [45 65 76]]\n"
     ]
    }
   ],
   "source": [
    "print(\"Original array :\\n\", arr)\n",
    "arr_inserted_col = np.insert(arr, 2, 5, axis=1)\n",
    "print(\"Inserted array:\\n\", arr_inserted_col)\n",
    "\n",
    "arr_inserted_row = np.insert(arr, 1, 5, axis=0)\n",
    "print(\"Inserted array:\\n\", arr_inserted_row)"
   ]
  },
  {
   "cell_type": "markdown",
   "id": "710e8e1a",
   "metadata": {},
   "source": [
    "# adding values in 2D array with append"
   ]
  },
  {
   "cell_type": "code",
   "execution_count": 79,
   "id": "123cd205",
   "metadata": {},
   "outputs": [
    {
     "name": "stdout",
     "output_type": "stream",
     "text": [
      "Original array :\n",
      " [[10 12 33]\n",
      " [45 65 76]]\n",
      "Array after append: \n",
      " [[10 12 33]\n",
      " [45 65 76]\n",
      " [ 7  2  3]]\n",
      "Original array :\n",
      " [[10 12 33]\n",
      " [45 65 76]]\n",
      "Array after append: \n",
      " [[ 10  12  33 100]\n",
      " [ 45  65  76 200]]\n"
     ]
    }
   ],
   "source": [
    "#adding elements as row\n",
    "print(\"Original array :\\n\", arr)\n",
    "r=np.array([7,2,3])\n",
    "arr_append_row = np.append(arr, [r], axis=0)\n",
    "print(\"Array after append: \\n\", arr_append)"
   ]
  },
  {
   "cell_type": "code",
   "execution_count": null,
   "id": "0d4a331c",
   "metadata": {},
   "outputs": [],
   "source": [
    "#adding elements as col\n",
    "print(\"Original array :\\n\", arr)\n",
    "c=np.array([100,200])\n",
    "cc=np.reshape(c,(-1,1))\n",
    "arr_append_col = np.append(arr, cc, axis=1)\n",
    "print(\"Array after append: \\n\", arr_append_col)"
   ]
  },
  {
   "cell_type": "markdown",
   "id": "d0288014",
   "metadata": {},
   "source": [
    "# Sorting an array"
   ]
  },
  {
   "cell_type": "code",
   "execution_count": 88,
   "id": "eee0f122",
   "metadata": {},
   "outputs": [
    {
     "name": "stdout",
     "output_type": "stream",
     "text": [
      "Original Arrya:\n",
      " [[3 2 7]\n",
      " [6 8 4]\n",
      " [9 5 1]]\n",
      "Sorted 2D Array:\n",
      " [[2 3 7]\n",
      " [4 6 8]\n",
      " [1 5 9]]\n",
      "Sorted 2D Array at column:\n",
      " [[3 2 1]\n",
      " [6 5 4]\n",
      " [9 8 7]]\n"
     ]
    }
   ],
   "source": [
    "# Creating a 2D array\n",
    "arr = np.array([[3, 2, 7],\n",
    "                [6, 8, 4],\n",
    "                [9, 5, 1]])\n",
    "print(\"Original Arrya:\\n\", arr)\n",
    "# Sorting along the rows\n",
    "arr.sort(axis=1)\n",
    "print(\"Sorted 2D Array:\\n\", arr)\n",
    "arr = np.array([[3, 2, 7],\n",
    "                [6, 8, 4],\n",
    "                [9, 5, 1]])\n",
    "# Sorting along the coluns\n",
    "arr.sort(axis=0)\n",
    "print(\"Sorted 2D Array at column:\\n\", arr)"
   ]
  },
  {
   "cell_type": "code",
   "execution_count": null,
   "id": "da6006c8",
   "metadata": {},
   "outputs": [],
   "source": []
  }
 ],
 "metadata": {
  "kernelspec": {
   "display_name": "Python 3 (ipykernel)",
   "language": "python",
   "name": "python3"
  },
  "language_info": {
   "codemirror_mode": {
    "name": "ipython",
    "version": 3
   },
   "file_extension": ".py",
   "mimetype": "text/x-python",
   "name": "python",
   "nbconvert_exporter": "python",
   "pygments_lexer": "ipython3",
   "version": "3.9.13"
  }
 },
 "nbformat": 4,
 "nbformat_minor": 5
}
