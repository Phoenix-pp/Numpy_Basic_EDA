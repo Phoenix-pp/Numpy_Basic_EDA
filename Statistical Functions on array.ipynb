{
 "cells": [
  {
   "cell_type": "markdown",
   "id": "a9451da2",
   "metadata": {},
   "source": [
    "# Mean of an array"
   ]
  },
  {
   "cell_type": "code",
   "execution_count": 9,
   "id": "41080fda",
   "metadata": {},
   "outputs": [
    {
     "name": "stdout",
     "output_type": "stream",
     "text": [
      "26.666666666666668\n"
     ]
    }
   ],
   "source": [
    "import numpy as np\n",
    "#1D array\n",
    "a_1D = np.array([10, 12, 23, 26,34, 55])\n",
    "print(np.mean(a_1D)) "
   ]
  },
  {
   "cell_type": "code",
   "execution_count": 10,
   "id": "902fcdbd",
   "metadata": {},
   "outputs": [
    {
     "name": "stdout",
     "output_type": "stream",
     "text": [
      "26.666666666666668\n"
     ]
    }
   ],
   "source": [
    "#2D array\n",
    "a_2D = np.array([[10, 12, 23],[26, 34, 55]])\n",
    "print(np.mean(a_2D)) "
   ]
  },
  {
   "cell_type": "markdown",
   "id": "b3754f1e",
   "metadata": {},
   "source": [
    "same as 1D array? because np.mean calculates mean accross the elements.\n",
    "to find the mean across row we can use axis parameter, as below:-"
   ]
  },
  {
   "cell_type": "code",
   "execution_count": 11,
   "id": "4f973251",
   "metadata": {},
   "outputs": [
    {
     "name": "stdout",
     "output_type": "stream",
     "text": [
      "[15.         38.33333333]\n"
     ]
    }
   ],
   "source": [
    "#2D array mean across rows\n",
    "print(np.mean(a_2D, axis=1)) "
   ]
  },
  {
   "cell_type": "markdown",
   "id": "476afa87",
   "metadata": {},
   "source": [
    "# Median of an array"
   ]
  },
  {
   "cell_type": "code",
   "execution_count": 24,
   "id": "a7d4e599",
   "metadata": {},
   "outputs": [
    {
     "name": "stdout",
     "output_type": "stream",
     "text": [
      "[10 12 23 26 34 55]\n",
      "24.5\n"
     ]
    }
   ],
   "source": [
    "#1D array\n",
    "print(a_1D)\n",
    "print(np.median(a_1D))  "
   ]
  },
  {
   "cell_type": "code",
   "execution_count": 25,
   "id": "c1792886",
   "metadata": {},
   "outputs": [
    {
     "name": "stdout",
     "output_type": "stream",
     "text": [
      "[[10 12 23]\n",
      " [26 34 55]]\n",
      "24.5\n"
     ]
    }
   ],
   "source": [
    "#2D array\n",
    "print(a_2D)\n",
    "print(np.median(a_2D))  "
   ]
  },
  {
   "cell_type": "code",
   "execution_count": 26,
   "id": "d80eff14",
   "metadata": {},
   "outputs": [
    {
     "name": "stdout",
     "output_type": "stream",
     "text": [
      "[[10 12 23]\n",
      " [26 34 55]]\n",
      "[12. 34.]\n"
     ]
    }
   ],
   "source": [
    "#2D array median across rows\n",
    "print(a_2D)\n",
    "print(np.median(a_2D, axis=1))  "
   ]
  },
  {
   "cell_type": "markdown",
   "id": "a62fd088",
   "metadata": {},
   "source": [
    "# Standard Deviation of an array"
   ]
  },
  {
   "cell_type": "code",
   "execution_count": 27,
   "id": "bfdd4990",
   "metadata": {},
   "outputs": [
    {
     "name": "stdout",
     "output_type": "stream",
     "text": [
      "[10 12 23 26 34 55]\n",
      "15.073892072793353\n"
     ]
    }
   ],
   "source": [
    "#1D array\n",
    "print(a_1D)\n",
    "print(np.std(a_1D))"
   ]
  },
  {
   "cell_type": "code",
   "execution_count": 28,
   "id": "132b4e83",
   "metadata": {},
   "outputs": [
    {
     "name": "stdout",
     "output_type": "stream",
     "text": [
      "[[10 12 23]\n",
      " [26 34 55]]\n",
      "15.073892072793353\n"
     ]
    }
   ],
   "source": [
    "#2D array \n",
    "print(a_2D)\n",
    "print(np.std(a_2D))"
   ]
  },
  {
   "cell_type": "code",
   "execution_count": 29,
   "id": "c1e34221",
   "metadata": {},
   "outputs": [
    {
     "name": "stdout",
     "output_type": "stream",
     "text": [
      "[[10 12 23]\n",
      " [26 34 55]]\n",
      "[ 5.71547607 12.22929089]\n"
     ]
    }
   ],
   "source": [
    "#2D array std across rows\n",
    "print(a_2D)\n",
    "print(np.std(a_2D, axis=1))"
   ]
  },
  {
   "cell_type": "markdown",
   "id": "6c7863c3",
   "metadata": {},
   "source": [
    "# Variance of an array"
   ]
  },
  {
   "cell_type": "code",
   "execution_count": 30,
   "id": "112e91ca",
   "metadata": {},
   "outputs": [
    {
     "name": "stdout",
     "output_type": "stream",
     "text": [
      "[10 12 23 26 34 55]\n",
      "227.22222222222226\n"
     ]
    }
   ],
   "source": [
    "#1D array\n",
    "print(a_1D)\n",
    "print(np.var(a_1D))"
   ]
  },
  {
   "cell_type": "code",
   "execution_count": 31,
   "id": "dd7b6d71",
   "metadata": {},
   "outputs": [
    {
     "name": "stdout",
     "output_type": "stream",
     "text": [
      "[[10 12 23]\n",
      " [26 34 55]]\n",
      "227.22222222222226\n"
     ]
    }
   ],
   "source": [
    "#2D array \n",
    "print(a_2D)\n",
    "print(np.var(a_2D))"
   ]
  },
  {
   "cell_type": "code",
   "execution_count": 32,
   "id": "a85abca4",
   "metadata": {},
   "outputs": [
    {
     "name": "stdout",
     "output_type": "stream",
     "text": [
      "[[10 12 23]\n",
      " [26 34 55]]\n",
      "[ 32.66666667 149.55555556]\n"
     ]
    }
   ],
   "source": [
    "#2D array variance across rows\n",
    "print(a_2D)\n",
    "print(np.var(a_2D, axis=1))"
   ]
  },
  {
   "cell_type": "markdown",
   "id": "bad0ca43",
   "metadata": {},
   "source": [
    "# Finding Maximum and Minimum Value"
   ]
  },
  {
   "cell_type": "code",
   "execution_count": 33,
   "id": "99fe2ffa",
   "metadata": {},
   "outputs": [
    {
     "name": "stdout",
     "output_type": "stream",
     "text": [
      "[10 12 23 26 34 55]\n",
      "Minimum value:\n",
      " 10\n",
      "Miximum value:\n",
      " 55\n"
     ]
    }
   ],
   "source": [
    "#1D array\n",
    "print(a_1D)\n",
    "print(\"Minimum value:\\n\",np.min(a_1D))\n",
    "print(\"Miximum value:\\n\",np.max(a_1D))"
   ]
  },
  {
   "cell_type": "code",
   "execution_count": 34,
   "id": "bd4cf544",
   "metadata": {},
   "outputs": [
    {
     "name": "stdout",
     "output_type": "stream",
     "text": [
      "[[10 12 23]\n",
      " [26 34 55]]\n",
      "Minimum value:\n",
      " 10\n",
      "Miximum value:\n",
      " 55\n"
     ]
    }
   ],
   "source": [
    "#2D array\n",
    "print(a_2D)\n",
    "print(\"Minimum value:\\n\",np.min(a_2D))\n",
    "print(\"Miximum value:\\n\",np.max(a_2D))"
   ]
  },
  {
   "cell_type": "code",
   "execution_count": 35,
   "id": "b606eda7",
   "metadata": {},
   "outputs": [
    {
     "name": "stdout",
     "output_type": "stream",
     "text": [
      "[[10 12 23]\n",
      " [26 34 55]]\n",
      "Minimum value:\n",
      " [10 26]\n",
      "Miximum value:\n",
      " [23 55]\n"
     ]
    }
   ],
   "source": [
    "#2D array - row wise max and min values\n",
    "print(a_2D)\n",
    "print(\"Minimum value:\\n\",np.min(a_2D, axis=1))\n",
    "print(\"Miximum value:\\n\",np.max(a_2D, axis=1))"
   ]
  },
  {
   "cell_type": "markdown",
   "id": "f8dc81be",
   "metadata": {},
   "source": [
    "# Correlation Coefficient"
   ]
  },
  {
   "cell_type": "code",
   "execution_count": 38,
   "id": "758f453e",
   "metadata": {},
   "outputs": [
    {
     "name": "stdout",
     "output_type": "stream",
     "text": [
      "[[1.         0.96076892 0.96076892 0.24019223]\n",
      " [0.96076892 1.         1.         0.5       ]\n",
      " [0.96076892 1.         1.         0.5       ]\n",
      " [0.24019223 0.5        0.5        1.        ]]\n"
     ]
    }
   ],
   "source": [
    "a = np.array([[1, 1.5, 3], [4, 5, 6]])\n",
    "b = np.array([[2, 4, 6], [0, 10, 5]])\n",
    "print(np.corrcoef(a, b)) "
   ]
  },
  {
   "cell_type": "markdown",
   "id": "4e3d535e",
   "metadata": {},
   "source": [
    "# Histogram"
   ]
  },
  {
   "cell_type": "code",
   "execution_count": 39,
   "id": "bf3c8678",
   "metadata": {},
   "outputs": [
    {
     "name": "stdout",
     "output_type": "stream",
     "text": [
      "[2 4]\n",
      "[1. 3. 5.]\n"
     ]
    }
   ],
   "source": [
    "a = np.array([1, 2, 3, 3, 4, 5])\n",
    "hist, bin_edges = np.histogram(a, bins=2)\n",
    "print(hist)  \n",
    "print(bin_edges)  "
   ]
  },
  {
   "cell_type": "code",
   "execution_count": null,
   "id": "34e6a36d",
   "metadata": {},
   "outputs": [],
   "source": []
  }
 ],
 "metadata": {
  "kernelspec": {
   "display_name": "Python 3 (ipykernel)",
   "language": "python",
   "name": "python3"
  },
  "language_info": {
   "codemirror_mode": {
    "name": "ipython",
    "version": 3
   },
   "file_extension": ".py",
   "mimetype": "text/x-python",
   "name": "python",
   "nbconvert_exporter": "python",
   "pygments_lexer": "ipython3",
   "version": "3.9.13"
  }
 },
 "nbformat": 4,
 "nbformat_minor": 5
}
