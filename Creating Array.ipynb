{
 "cells": [
  {
   "cell_type": "markdown",
   "id": "d292a9e3",
   "metadata": {},
   "source": [
    "# importing numpy as np"
   ]
  },
  {
   "cell_type": "code",
   "execution_count": null,
   "id": "2c47c367",
   "metadata": {},
   "outputs": [],
   "source": [
    "import numpy as np"
   ]
  },
  {
   "cell_type": "markdown",
   "id": "acaff813",
   "metadata": {},
   "source": [
    "# Creating a 1-D array"
   ]
  },
  {
   "cell_type": "code",
   "execution_count": null,
   "id": "3aafc0f8",
   "metadata": {},
   "outputs": [],
   "source": [
    "arr1d = np.array([11, 12, 13, 14, 15])\n",
    "print(arr1d)"
   ]
  },
  {
   "cell_type": "markdown",
   "id": "2beaaee0",
   "metadata": {},
   "source": [
    "# Creating a 1-D array with list"
   ]
  },
  {
   "cell_type": "code",
   "execution_count": null,
   "id": "351e6060",
   "metadata": {},
   "outputs": [],
   "source": [
    "l=[23,34,45,56,67,78,89]\n",
    "arr=np.array(l)\n",
    "print(arr)"
   ]
  },
  {
   "cell_type": "markdown",
   "id": "40b4f91c",
   "metadata": {},
   "source": [
    "# Creating a 1-D array with linspace()"
   ]
  },
  {
   "cell_type": "code",
   "execution_count": null,
   "id": "3203fdee",
   "metadata": {},
   "outputs": [],
   "source": [
    "arr=np.linspace(1,5)\n",
    "print(arr)\n",
    "\n",
    "#specify the number of elements with num parameter in the linspace function\n",
    "arr=np.linspace(1,5,num=7)\n",
    "print(arr)"
   ]
  },
  {
   "cell_type": "markdown",
   "id": "1c4840d3",
   "metadata": {},
   "source": [
    "# Creating a 2-D array"
   ]
  },
  {
   "cell_type": "code",
   "execution_count": null,
   "id": "0b143138",
   "metadata": {},
   "outputs": [],
   "source": [
    "arr2d = np.array([[1, 2, 3], [4, 5, 6]])\n",
    "print(arr2d)"
   ]
  },
  {
   "cell_type": "markdown",
   "id": "cf250872",
   "metadata": {},
   "source": [
    "# Creating an array of zeros"
   ]
  },
  {
   "cell_type": "code",
   "execution_count": null,
   "id": "31c1c5b1",
   "metadata": {},
   "outputs": [],
   "source": [
    "zeros_arr = np.zeros((2, 3))\n",
    "#specify the shape as a tuple passed to the zeros function\n",
    "print(zeros_arr)"
   ]
  },
  {
   "cell_type": "markdown",
   "id": "0dd2753a",
   "metadata": {},
   "source": [
    "# Creating an array of ones"
   ]
  },
  {
   "cell_type": "code",
   "execution_count": null,
   "id": "c4fd7602",
   "metadata": {},
   "outputs": [],
   "source": [
    "ones_arr = np.ones((3, 2))\n",
    "#specify the shape as a tuple passed to the ones function\n",
    "print(ones_arr)"
   ]
  },
  {
   "cell_type": "markdown",
   "id": "516b7fd7",
   "metadata": {},
   "source": [
    "# Creating array with a range of values \n",
    "arange() is similar to range with start, stop and step parameters read more on range at [link](https://medium.com/@drpa/range-in-python-a0277cc50b4e) \n"
   ]
  },
  {
   "cell_type": "code",
   "execution_count": null,
   "id": "4fb1267b",
   "metadata": {},
   "outputs": [],
   "source": [
    "range_arr = np.arange(0, 10, 2)\n",
    "print(range_arr)"
   ]
  },
  {
   "cell_type": "markdown",
   "id": "5dbf0f80",
   "metadata": {},
   "source": [
    "# Creates an identity matrix"
   ]
  },
  {
   "cell_type": "code",
   "execution_count": null,
   "id": "c72134e0",
   "metadata": {},
   "outputs": [],
   "source": [
    "eye_arr = np.eye(4)\n",
    "print(eye_arr)"
   ]
  },
  {
   "cell_type": "markdown",
   "id": "cdf4b910",
   "metadata": {},
   "source": [
    "# Creating array with random "
   ]
  },
  {
   "cell_type": "code",
   "execution_count": null,
   "id": "6b3eaa85",
   "metadata": {},
   "outputs": [],
   "source": [
    "#genrating an array with floating values of 2 rows and 3 columns; values will be between 0 and 1\n",
    "random_arr = np.random.rand(2, 3)\n",
    "print(random_arr)\n",
    "random_arr.shape\n"
   ]
  },
  {
   "cell_type": "code",
   "execution_count": null,
   "id": "e5bbcc2b",
   "metadata": {},
   "outputs": [],
   "source": [
    "# Generate a random integer between 0 and 9\n",
    "random_int = np.random.randint(10)\n",
    "print(\"Random integer:\", random_int)\n",
    "\n",
    "#you can specify the number of elements with size paramter in randint function\n",
    "random_int_array = np.random.randint(1, 11, size=5)\n",
    "print(\"Random integer array:\", random_int_array)"
   ]
  },
  {
   "cell_type": "code",
   "execution_count": null,
   "id": "2af45322",
   "metadata": {},
   "outputs": [],
   "source": [
    "# Generate an array of 3 random floats between 0 and 1\n",
    "random_float_array = np.random.rand(3)\n",
    "print(\"Random float array:\", random_float_array)"
   ]
  },
  {
   "cell_type": "code",
   "execution_count": null,
   "id": "efa62e48",
   "metadata": {},
   "outputs": [],
   "source": [
    "# Shuffle an array\n",
    "arr = np.array([1, 12, 3, 24, 5])\n",
    "np.random.shuffle(arr)\n",
    "print(\"Shuffled array:\", arr)\n"
   ]
  },
  {
   "cell_type": "code",
   "execution_count": null,
   "id": "ec474719",
   "metadata": {},
   "outputs": [],
   "source": [
    "# Pick a random element from a chosen values of in an array\n",
    "arr = np.array([11, 22, 33, 34, 55])\n",
    "random_element = np.random.choice(arr)\n",
    "print(\"Random element:\", random_element)"
   ]
  },
  {
   "cell_type": "code",
   "execution_count": null,
   "id": "49f857cc",
   "metadata": {},
   "outputs": [],
   "source": []
  }
 ],
 "metadata": {
  "kernelspec": {
   "display_name": "Python 3 (ipykernel)",
   "language": "python",
   "name": "python3"
  },
  "language_info": {
   "codemirror_mode": {
    "name": "ipython",
    "version": 3
   },
   "file_extension": ".py",
   "mimetype": "text/x-python",
   "name": "python",
   "nbconvert_exporter": "python",
   "pygments_lexer": "ipython3",
   "version": "3.9.13"
  }
 },
 "nbformat": 4,
 "nbformat_minor": 5
}
